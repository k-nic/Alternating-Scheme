{
 "cells": [
  {
   "cell_type": "code",
   "execution_count": null,
   "metadata": {},
   "outputs": [],
   "source": [
    "import numpy as np\n",
    "from random import randint\n",
    "import scipy as scipy\n", 
    "import scipy.interpolate as interpolate\n",
    "import math\n",
    "from random import *"
   ]
  },
  {
   "cell_type": "code",
   "execution_count": null,
   "metadata": {},
   "outputs": [],
   "source": [
    "# here we generate matrix X\n",
    "dimensionality = 400\n",
    "k = 10\n",
    "delta = 0.1 # regulates percentage of outliers\n",
    "MODE = 'neutral' # case I - neutral, case II-something else\n",
    "number_of_points = 400\n",
    "number_of_neurons = number_of_points\n",
    "\n",
    "A = np.random.normal(loc=0.0, scale=1.0, size=(int(number_of_points*(1-delta)), k))\n",
    "B = np.random.normal(loc=0.0, scale=1.0, size=(k, dimensionality))\n",
    "if MODE == 'neutral':\n",
    "    C = np.random.normal(loc=0.0, scale=1.0, size=(int(number_of_points*delta), dimensionality))\n",
    "else:\n",
    "    C = np.tile(np.random.normal(loc=0.0, scale=1.0, size=(1, dimensionality)), (int(number_of_points*delta), 1))\n",
    "images = np.concatenate((np.matmul(A, B), C), axis = 0)\n",
    "print(images.shape)\n",
    "u, s, vh = np.linalg.svd(np.matmul(A, B), full_matrices=True)\n",
    "D = vh[0:k]\n",
    "P_correct = np.matmul(np.transpose(D), D)\n",
    "\n",
    "u, s, vh = np.linalg.svd(images, full_matrices=True)\n",
    "D = vh[0:k]\n",
    "P_svd = np.matmul(np.transpose(D), D)\n",
    "DIFF = P_svd - P_correct\n",
    "dist = np.sqrt(np.sum(DIFF*DIFF))\n",
    "print(\"Frobenius distance from SVD till correct %0.4f\" %dist)\n",
    "\n",
    "L1 = np.sum(np.sqrt(np.sum(np.square(images-np.matmul(images, P_correct)), axis=1)))\n",
    "print(\"L12 distance till correct %0.4f\" %L1)\n",
    "\n",
    "Data = np.float32(np.transpose(images))"
   ]
  },
  {
   "cell_type": "code",
   "execution_count": null,
   "metadata": {
    "scrolled": false
   },
   "outputs": [],
   "source": [
    "from kurtosis import kurtosis\n",
    "from mmd import mmd\n",
    "import tensorflow as tf\n",
    "for i in range(10):\n",
    "    for GAMMA in [0.1, 0.2, 0.4, 1, 1.3, 1.5, 2, 4, 8]:\n",
    "        Q = kurtosis (images, k=10, gamma=GAMMA)\n",
    "        PP=np.matmul(Q, np.transpose(Q))\n",
    "        diff=PP-P_correct\n",
    "        dist = np.sum(np.square(diff))\n",
    "        print(\"kurtosis %d GAMMA=%f and dist=%f\\n\" % (i, GAMMA, dist))\n",
    "        tf.reset_default_graph()\n",
    "        \n",
    "        O = mmd (images, k=10, gamma=GAMMA)\n",
    "        PP=np.matmul(O, np.transpose(O))\n",
    "        diff=PP-P_correct\n",
    "        dist=np.sum(np.square(diff))\n",
    "        print(\"mmd %d GAMMA=%f and dist=%f\\n\" % (i, GAMMA, dist))\n",
    "        tf.reset_default_graph()"
   ]
  },
  {
   "cell_type": "code",
   "execution_count": null,
   "metadata": {},
   "outputs": [],
   "source": []
  }
 ],
 "metadata": {
  "kernelspec": {
   "display_name": "Python 3",
   "language": "python",
   "name": "python3"
  },
  "language_info": {
   "codemirror_mode": {
    "name": "ipython",
    "version": 3
   },
   "file_extension": ".py",
   "mimetype": "text/x-python",
   "name": "python",
   "nbconvert_exporter": "python",
   "pygments_lexer": "ipython3",
   "version": "3.7.4"
  }
 },
 "nbformat": 4,
 "nbformat_minor": 2
}
